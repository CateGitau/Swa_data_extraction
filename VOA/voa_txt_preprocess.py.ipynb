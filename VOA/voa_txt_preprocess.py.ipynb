{
 "cells": [
  {
   "cell_type": "code",
   "execution_count": 77,
   "metadata": {},
   "outputs": [],
   "source": [
    "import pandas as pd\n",
    "import numpy as np\n",
    "pd.set_option('display.max_colwidth', -1)"
   ]
  },
  {
   "cell_type": "code",
   "execution_count": 91,
   "metadata": {},
   "outputs": [
    {
     "data": {
      "text/html": [
       "<div>\n",
       "<style scoped>\n",
       "    .dataframe tbody tr th:only-of-type {\n",
       "        vertical-align: middle;\n",
       "    }\n",
       "\n",
       "    .dataframe tbody tr th {\n",
       "        vertical-align: top;\n",
       "    }\n",
       "\n",
       "    .dataframe thead th {\n",
       "        text-align: right;\n",
       "    }\n",
       "</style>\n",
       "<table border=\"1\" class=\"dataframe\">\n",
       "  <thead>\n",
       "    <tr style=\"text-align: right;\">\n",
       "      <th></th>\n",
       "      <th>Title</th>\n",
       "      <th>Date</th>\n",
       "      <th>Text</th>\n",
       "    </tr>\n",
       "  </thead>\n",
       "  <tbody>\n",
       "    <tr>\n",
       "      <th>0</th>\n",
       "      <td>Maambukizi ya Corona yaongezeka Afrika</td>\n",
       "      <td>NaN</td>\n",
       "      <td>Wizara ya afya ya Tanzania imeripoti Jumatatu kuwa, watu takriban 14 zaidi wamepata maambukizi ya Covid-19. \\n Walioambukizwa wote ni raia wa Tanzania, 13 wakiwa Dar-es-salaam na mmoja mjini Arusha. \\n Wizara ya afya imeripoti kwamba juhudi za kufuatilia watu waliokuwa karibu na wagonjwa zinaendelea. \\n Wakati wa maadimisho ya pasaka, wakristo walikusanyika kanisani kwa maombi bila kuzingatia ushauri wa wataalam wa afya. \\n Kuna mijadala kwenye mitandao ya kijamii Tanzania, kuhusu hatua zinazochukuliwa kudhibithi maambukizi nchini humo. \\n Nchini Afrika kusini watu 145 zaidi, wameambukizwa virusi vya Corona, na kujumulisha idadi ya watu 2,173 ambao wameambukizwa virusi vya Corona nchini humo. \\n Taarifa ya wizara ya afya hata hivyo haijasema idadi ya watu ambao wamekufa wala kupona kutokana na virusi vya Corona nchini humo. \\n Nchini Sudan, maafisa wameongeza mikakati zaidi ya kuzuia virusi vya Corona kusambaa. \\n Wamepiga marufuku usafiri wa magari kati ya miji na kutekeleza sheria za hali ya dharura ili kuhakikisha kwamba amri hizo zinatekelezwa. \\n Jumla ya watu 19 wamethibitishwa kuambukizwa virusi vya Corona nchini Sudan kusini. \\n Nchini Liberia Vurugu zimeshuhudiwa wakati wa kutekeleza amri ya watu kutotoka majumbani, polisi wakitumia nguvu kuwalazimisha watu waliokuwa wanafanya shughuli za kujitafutia vitu muhimu za matumizi, kukaa makwao. \\n Hali ya kuchanganyikiwa ilionekana katika mji wa Monrovia, wenye jumla ya watu milioni 1, wengi wakisema kwamba walikuwa wamepata Habari kupitia mitandao ya kijamii kwamba serikali ilikuwa imetangaza watu kusalia majumbani mwao kuanzia saa tisa alasiri hadi saa kumi na mbili asubuhi, na wala sio kufunga shughuli zote kabisa. \\n Raia wa Liberia wana wasiwasi kwamba hatua hiyo ya rais George Weah, itaathiri zaidi Maisha ya watu katika nchi ambayo zaidi ya nusu ya watu ni maskini. \\n Imetayarishwa na Kennes Bwire, VOA, Washington DC</td>\n",
       "    </tr>\n",
       "    <tr>\n",
       "      <th>1</th>\n",
       "      <td>DRC : Wanamgambo wa ADF wawakata vichwa watu 16, Beni</td>\n",
       "      <td>NaN</td>\n",
       "      <td>Wanamgambo wamewakata vichwa watu 16 katika mauaji mapya kwenye kijiji kimoja karibu na Beni kaskazini mashariki mwa Jamhuri ya Kidemokrasi ya Congo, DRC, vyanzo vya usalama vimesema Ijumaa. \\n\\nKwa mujibu wa shirika la habari la Ufaransa raia watatu wamejeruhiwa katika mji wa Beni kutokana na mlipuko wa kilipuzi Alhamisi usiku afisa mmoja amesema, ikiwa ni dalili kuwa hizi ni mbinu mpya katika eneo hilo kutokana na ghasia za wanamgambo. \\n Wanamgambo wa ADF \\n Mauaji ya Alhamisi katika mkoa wa Mbau kaskazini mwa Beni yanashukiwa kufanya na kundi la waasi la Allied Democratic Force, ADF, ambalo linahusika na mfululizo wa mauaji tangu kuanza kwa ghasia mwezi November. \\n “Miili ya watu 16 waliokatwa vichwa imegundulika katika msako ulioanza jana jioni,” Jamal Moussa, msemaji wa mtandao wa taasisi za jamii za kiraia huko Mbau ameiambia AFP. Mauaji hayo yalilenga kijiji kidogo cha Mantumbi. \\n “Magaidi wa ADF walifanya shambulizi Alhamisi mchana, kwanza katika msitu ambako watu walikuwa katikamashamba yao, na halafu waliingia kijijini,” amesema Moussa. \\n Majeshi ya DRC yameanzisha operesheni dhidi ya ADF katika eneo la mashariki tangu mwishoni mwa mwezi Oktoba. Lakini majibu ya ADF yamekuwa ni kufanya mauaji ya watu wengi, katika juhudi za kuwakatisha tamaa raia kulisaidia jeshi la serikali. \\n Kiasi cha watu 100 wameuawa tangu Novemba 5 katika mashambulizi ambayo ADF inalaumiwa kuhusika, kundi ambalo lina mizizi yake nchini Uganda. \\n Hakuna chanzo cha jeshi ambacho kimethibitisha rasmi ripoti ya Alhamisi lakini jeshi la Congo na lile la Umoja wa Mataifa yaliyoko katika eneo hilo yametangaza operesheni ya pamoja dhidi ya wanamgambo wa ADF katika mkoa wa Beni. \\n Tamko la Lucha \\n Kundi la kijamii la Lucha, limerioti kuwa watu tisa ndiyo wameuawa karibu na Mbau. \\n Abiria wawili waliokuwa katika pikipiki walirusha kilipuzi ambacho kiliripuka kwenye eneo la soko, nakujeruhi watu watatu, amesema Alois Mbwarara, mkuu wa utawala wa Rwenzori, moja ya wilaya nne katika mji huo. \\n ADf imekuwa ikilikimbia jeshila Congo, hivi sasa wanatumia vibaraka mjini humo kufanya vitendo vya njama,” amesema na kuongezea jeshi linafanya uchunguzi mabaki ya vifusi kubaini iwapo ni bomu la kutengenezwa nyumbani oa gruneti la mkono. \\n Mara ya mwisho kilipuzi kutumika huko Beni ilikuwa mwaka 2007, afisa huyo ameongezea. \\n Jeshi la Congo limegundua ‘kiwanda cha kutengeneza mabomu ya kienyeji’ katika kambi moja ya ADF waliyoiteka, msemaji wa jeshi jenerali Leon Richard Kasonga amesema Jumatano. \\n Imetayarishwa na mwandishi wetu, Khadija Riyami, Washington, DC.</td>\n",
       "    </tr>\n",
       "    <tr>\n",
       "      <th>2</th>\n",
       "      <td>WHO yaripoti kasi mpya ya maambukizi ya COVID-19</td>\n",
       "      <td>NaN</td>\n",
       "      <td>Shirika la Afya Duniani (WHO) Jumapili limeripoti kuongezeka kwa maambukizi mapya 183,000 ya COVID-19, ongezeko kubwa kuliko yote kwa siku moja ambayo imerekodi tangu kuanza kwa janga hilo. \\n\\nMaafisa wa WHO wamesema kwa wiki kadhaa ufuatiliaji wa mlipuko huo umeangazia mabara ya Marekani, na idadi ya Jumapili imeonyesha ongezeko la siku moja la zaidi ya maambukizi 116,000 katika eneo Latin Amerika na Amerika ya Kaskazini.  \\n Brazil ilikuwa inaongoza kwa takriban maambukizi mapya 55,000, ikifuatiwa na Marekani ikiwa na zaidi ya maambukizi 36,000 na India ikiwa takriban na maambukizi mapya 15,000. \\n Mkurugenzi Mkuu wa WHO Tedros Adhanom Ghebreyesus amesema Jumatatu tishio kubwa hivi sasa sio virusi vyenyewe, lakini hasa “ ni ukosefu wa mshikamano wa kimataifa na uongozi.” \\n “Hatuwezi kulishinda janga hili wakati ulimwengu umegawanyika,” amesema. \\n Zaidi ya darzeni ya majimbo ya Marekani yameshuhudia kuongezeka kwa maambukizi. Dkt Tom Inglesby, mkurugenzi wa Kituo cha Usalama wa Afya katika Chuo cha Afya ya Jamii cha Johns Hopkins Bloomberg, amesema kupitia kipindi cha “Fox News Sunday” kwamba kuongezeka kwa maambukizi kunatokana na mchanganyiko wa kuongezeka kwa upimaji na mlipuko hasa wa maambukizi. \\n “Unaweza kupambanua kati ya kuongezeka upimaji na hali ya dharura ya ugonjwa huu kwa kuangalia kiwango cha watu wanaolazwa hospitali, kiwango cha watu walioko kitengo cha mahututi, na asilimia ya jumla ya wale wanaogundulika kuwa na maambukizi katika jimbo mojawapo,” Inglesby amesema.  \\n “Na katika majimbo mengi, katika yale ulioonyesha, hususan Arizona, Texas, Carolinas, Florida, kile tunacho shuhudia ni kuongezeka maambukizi kwa waliopimwa na wengi wao kulazwa hospitalini, hali ya wagonjwa ikiwa mbaya.” \\n Rais Donald Trump amerejea kusema anaamini idadi ya maambukizi yaliothibitishwa nchini Marekani, ambayo inaongoza duniani kukiwa na zaidi ya maambukizi milioni 2.2, ni kutokana na juhudi katika nchi hii kufanya upimaji. \\n “Upimaji wetu wa virusi vya corona ni wa juu zaidi (vipimo 25 milioni) na ambavyo vya utaalam wa juu, na inatufanya tuonekane kama tuna maambukizi mengi zaidi, hasa ukilinganisha na nchi nyingine,” alituma ujumbe wa tweet Jumapili jioni.  \\n Hilo lilifuatia maoni yake aliotoa katika mkutano wa hadhara wa kampeni Jumamosi ambapo rais alisema : “Unapofanya vipimo kwa kiwango hicho, lazima utajikuta una maambukizi zaidi. Hivyo, nawaambia watu wangu, “Punguzeni kasi ya upimaji.” \\n White House baadae ilisema kuwa rais alikuwa anafanya mashara.  \\n Wajumbe wa kikosi kazi cha virusi vya corona cha White House wamepangiwa kutoa ushuhuda mbele ya kamati ya Nishati na Biashara ya Baraza la Wawakilishi Jumanne, na Spika wa Baraza la Wawakilishi Nancy Pelosi amesema, “Wananchi wa Marekani wanahitaji majibu kwa nini Rais Trump anataka upimaji upunguzwe kasi wakati wataalam wanasema upimaji zaidi unahitajika.” \\n “Juhudi za Rais kupunguza kasi ambapo upimaji unahitajika kwa dharura, kuficha ukweli wa kiwango cha maambukizi ya virusi inamaanisha Wamarekani zaidi watapoteza maisha yao,” amesema Pelosi katika tamko lake Jumapili.</td>\n",
       "    </tr>\n",
       "    <tr>\n",
       "      <th>3</th>\n",
       "      <td>China : Vifo kutokana na kirusi corona vimefikia watu 81</td>\n",
       "      <td>NaN</td>\n",
       "      <td>Idadi ya vifo kutokana na maambukizo ya kirusi corona imeongezeka na kufikia 81 Jumatatu. \\n\\nWagonjwa wengine 3,000 wamethibitishwa kuwa na maambukizo, wakati serikali ikiongeza muda wa mapumziko kwa siku tatu katika sherehe za mwaka mpya unaofuata kuandama kwa mwezi. \\n Wakati huohuo biashara kubwa nchini humo zimefungwa au waajiriwa kupewa muongozo wa kufanyia kazi majumbani mwao katika juhudi za kupunguza maambukizo. \\n Waziri Mkuu Li Kequang alitembelea mji wa Wuhan katika kituo cha mlipuko wa kirusi hicho. \\n Serikali inaongeza juhudi za kupambana na ugonjwa unaosababishwa na kirusi corona huku kukiwa na shutuma kutoka kwa wananchi ya kutokuwepo na uwajibikaji wa kutosha. \\n Idadi ya watu walioathiriwa na kirusi hicho China imepanda kwa asilimia 30 kutoka ile ya awali huku nusu yao wakitokea jimbo la Hubei ambao mji mkuu wake ni Wuhan. \\n Lakini baadhi ya wataalamu wanasema idadi ya walioathiriwa inaweza kuwa kubwa zaidi. \\n Hali hiyo imesababisha sherehe za mwaka mpya kuahirishwa hadi February 2 ambapo watu wengi husafiri kuingia na kutoka China. \\n Wawekezaji wana wasiwasi kuhusu matokeo ya safari, utalii na harakati za kiuchumi huko China kwa hivi sasa. \\n Imetayarishwa na mwandishi wetu, Washington, DC.</td>\n",
       "    </tr>\n",
       "    <tr>\n",
       "      <th>4</th>\n",
       "      <td>Kenya itatumia misaada ya kimataifa ya Covid-19 kwa uadilifu, asema George Osewe</td>\n",
       "      <td>NaN</td>\n",
       "      <td>Mwenyekiti wa bodi ya Hospitali ya Mbagathi iliyo mjini Nairobi, Kenya, amesema usaidizi wowote wa kimataifa wa kukabilina na virusi vya Corona utatumiwa kwa uangalifu na kwa njia inayofaa. \\n\\nGeorge Osewe, mmoja wa wasimamizi waandamizi wa hospitali hiyo, ambako wagonjwa wengi wanaugua maradhi ya Corona wanaendelea kupokea matibabu, ameiambia Sauti ya Amerika kwamba misaada inayotolewa na taasisi za kimataifa kama Benki kuu ya Dunia na nchi za Magharibi kama Marekani, ya kusaidia katika kukabilina na janga la Corona, itaelekezwa kule ilikokusidiwa. \\n Haya yalijiri huku Marekani ikitangaza msaada wa $274 Milioni kwa bara la Afrika ambapo Kenya na Jamhuri ya kidemokrasia ya Kongo ni baadhi ya nchi zitakazonufaika. \\n Siku ya Jumatano, bodi ya Benki Kuu ya Dunia iliidhinisha dolla milioni 50 ambazo ilisema zimetolewa kwa Kenya kupambambana na hali hiyo. \\n Baadhi ya wauguzi na wahudumu wengine katika hospitali hiyo wamekuwa wakilalamika kwamba hakuna vifaa vya kutosha vinavyohitajika ili kutekeleza majukumu bila kuhatarisha maisha yao. \\n \"Tunakaribisha sana msaada kutoka Marekani na mashirika ya kihisani ya kimataifa kwa sababu wao ni washirika wetu wa karibu,\" alisema Osewe. \\n \"Ni ishara kwamba wana imani na mfumo wetu wa afya,\" aliongeza. \\n Baadhi ya Wakenya wametaka serikali kuwa na uwazi katika matumizi ya fedha za misaada wakidai kwamba katika siku za awali, ubadhirifu wa pesa kama hizo na ufisadi ulishuhudiwa. \\n Kenya ni miongoni mwa nchi zilizo na idadi kubwa ya visa vya Corona vilivyothibitishwa barani Afrika, ikiwa na watu 142 walioambukizwa kufikia siku ya Jumapili. \\n Sikiliza mahojiano hapa: \\n No media source currently available</td>\n",
       "    </tr>\n",
       "  </tbody>\n",
       "</table>\n",
       "</div>"
      ],
      "text/plain": [
       "                                                                              Title  \\\n",
       "0  Maambukizi ya Corona yaongezeka Afrika                                             \n",
       "1  DRC : Wanamgambo wa ADF wawakata vichwa watu 16, Beni                              \n",
       "2  WHO yaripoti kasi mpya ya maambukizi ya COVID-19                                   \n",
       "3  China : Vifo kutokana na kirusi corona vimefikia watu 81                           \n",
       "4  Kenya itatumia misaada ya kimataifa ya Covid-19 kwa uadilifu, asema George Osewe   \n",
       "\n",
       "   Date  \\\n",
       "0 NaN     \n",
       "1 NaN     \n",
       "2 NaN     \n",
       "3 NaN     \n",
       "4 NaN     \n",
       "\n",
       "                                                                                                                                                                                                                                                                                                                                                                                                                                                                                                                                                                                                                                                                                                                                                                                                                                                                                                                                                                                                                                                                                                                                                                                                                                                                                                                                                                                                                                                                                                                                                                                                                                                                                                                                                                                                                                                                                                                                                                                                                                                                                                                                                                                                                                                                                                                                                                                                                                                                                                                                                                                                                                                                                                                                                                                                                                                                                                                                                                                                                                                                                                                                                                                                                       Text  \n",
       "0  Wizara ya afya ya Tanzania imeripoti Jumatatu kuwa, watu takriban 14 zaidi wamepata maambukizi ya Covid-19. \\n Walioambukizwa wote ni raia wa Tanzania, 13 wakiwa Dar-es-salaam na mmoja mjini Arusha. \\n Wizara ya afya imeripoti kwamba juhudi za kufuatilia watu waliokuwa karibu na wagonjwa zinaendelea. \\n Wakati wa maadimisho ya pasaka, wakristo walikusanyika kanisani kwa maombi bila kuzingatia ushauri wa wataalam wa afya. \\n Kuna mijadala kwenye mitandao ya kijamii Tanzania, kuhusu hatua zinazochukuliwa kudhibithi maambukizi nchini humo. \\n Nchini Afrika kusini watu 145 zaidi, wameambukizwa virusi vya Corona, na kujumulisha idadi ya watu 2,173 ambao wameambukizwa virusi vya Corona nchini humo. \\n Taarifa ya wizara ya afya hata hivyo haijasema idadi ya watu ambao wamekufa wala kupona kutokana na virusi vya Corona nchini humo. \\n Nchini Sudan, maafisa wameongeza mikakati zaidi ya kuzuia virusi vya Corona kusambaa. \\n Wamepiga marufuku usafiri wa magari kati ya miji na kutekeleza sheria za hali ya dharura ili kuhakikisha kwamba amri hizo zinatekelezwa. \\n Jumla ya watu 19 wamethibitishwa kuambukizwa virusi vya Corona nchini Sudan kusini. \\n Nchini Liberia Vurugu zimeshuhudiwa wakati wa kutekeleza amri ya watu kutotoka majumbani, polisi wakitumia nguvu kuwalazimisha watu waliokuwa wanafanya shughuli za kujitafutia vitu muhimu za matumizi, kukaa makwao. \\n Hali ya kuchanganyikiwa ilionekana katika mji wa Monrovia, wenye jumla ya watu milioni 1, wengi wakisema kwamba walikuwa wamepata Habari kupitia mitandao ya kijamii kwamba serikali ilikuwa imetangaza watu kusalia majumbani mwao kuanzia saa tisa alasiri hadi saa kumi na mbili asubuhi, na wala sio kufunga shughuli zote kabisa. \\n Raia wa Liberia wana wasiwasi kwamba hatua hiyo ya rais George Weah, itaathiri zaidi Maisha ya watu katika nchi ambayo zaidi ya nusu ya watu ni maskini. \\n Imetayarishwa na Kennes Bwire, VOA, Washington DC                                                                                                                                                                                                                                                                                                                                                                                                                                                                                                                                                                                                                                                                                                                                                                                                                                                                                                                                                                                                                                                                                                                                                                                                                                      \n",
       "1  Wanamgambo wamewakata vichwa watu 16 katika mauaji mapya kwenye kijiji kimoja karibu na Beni kaskazini mashariki mwa Jamhuri ya Kidemokrasi ya Congo, DRC, vyanzo vya usalama vimesema Ijumaa. \\n\\nKwa mujibu wa shirika la habari la Ufaransa raia watatu wamejeruhiwa katika mji wa Beni kutokana na mlipuko wa kilipuzi Alhamisi usiku afisa mmoja amesema, ikiwa ni dalili kuwa hizi ni mbinu mpya katika eneo hilo kutokana na ghasia za wanamgambo. \\n Wanamgambo wa ADF \\n Mauaji ya Alhamisi katika mkoa wa Mbau kaskazini mwa Beni yanashukiwa kufanya na kundi la waasi la Allied Democratic Force, ADF, ambalo linahusika na mfululizo wa mauaji tangu kuanza kwa ghasia mwezi November. \\n “Miili ya watu 16 waliokatwa vichwa imegundulika katika msako ulioanza jana jioni,” Jamal Moussa, msemaji wa mtandao wa taasisi za jamii za kiraia huko Mbau ameiambia AFP. Mauaji hayo yalilenga kijiji kidogo cha Mantumbi. \\n “Magaidi wa ADF walifanya shambulizi Alhamisi mchana, kwanza katika msitu ambako watu walikuwa katikamashamba yao, na halafu waliingia kijijini,” amesema Moussa. \\n Majeshi ya DRC yameanzisha operesheni dhidi ya ADF katika eneo la mashariki tangu mwishoni mwa mwezi Oktoba. Lakini majibu ya ADF yamekuwa ni kufanya mauaji ya watu wengi, katika juhudi za kuwakatisha tamaa raia kulisaidia jeshi la serikali. \\n Kiasi cha watu 100 wameuawa tangu Novemba 5 katika mashambulizi ambayo ADF inalaumiwa kuhusika, kundi ambalo lina mizizi yake nchini Uganda. \\n Hakuna chanzo cha jeshi ambacho kimethibitisha rasmi ripoti ya Alhamisi lakini jeshi la Congo na lile la Umoja wa Mataifa yaliyoko katika eneo hilo yametangaza operesheni ya pamoja dhidi ya wanamgambo wa ADF katika mkoa wa Beni. \\n Tamko la Lucha \\n Kundi la kijamii la Lucha, limerioti kuwa watu tisa ndiyo wameuawa karibu na Mbau. \\n Abiria wawili waliokuwa katika pikipiki walirusha kilipuzi ambacho kiliripuka kwenye eneo la soko, nakujeruhi watu watatu, amesema Alois Mbwarara, mkuu wa utawala wa Rwenzori, moja ya wilaya nne katika mji huo. \\n ADf imekuwa ikilikimbia jeshila Congo, hivi sasa wanatumia vibaraka mjini humo kufanya vitendo vya njama,” amesema na kuongezea jeshi linafanya uchunguzi mabaki ya vifusi kubaini iwapo ni bomu la kutengenezwa nyumbani oa gruneti la mkono. \\n Mara ya mwisho kilipuzi kutumika huko Beni ilikuwa mwaka 2007, afisa huyo ameongezea. \\n Jeshi la Congo limegundua ‘kiwanda cha kutengeneza mabomu ya kienyeji’ katika kambi moja ya ADF waliyoiteka, msemaji wa jeshi jenerali Leon Richard Kasonga amesema Jumatano. \\n Imetayarishwa na mwandishi wetu, Khadija Riyami, Washington, DC.                                                                                                                                                                                                                                                                                                                                                                                                                                                                                                                                      \n",
       "2  Shirika la Afya Duniani (WHO) Jumapili limeripoti kuongezeka kwa maambukizi mapya 183,000 ya COVID-19, ongezeko kubwa kuliko yote kwa siku moja ambayo imerekodi tangu kuanza kwa janga hilo. \\n\\nMaafisa wa WHO wamesema kwa wiki kadhaa ufuatiliaji wa mlipuko huo umeangazia mabara ya Marekani, na idadi ya Jumapili imeonyesha ongezeko la siku moja la zaidi ya maambukizi 116,000 katika eneo Latin Amerika na Amerika ya Kaskazini.  \\n Brazil ilikuwa inaongoza kwa takriban maambukizi mapya 55,000, ikifuatiwa na Marekani ikiwa na zaidi ya maambukizi 36,000 na India ikiwa takriban na maambukizi mapya 15,000. \\n Mkurugenzi Mkuu wa WHO Tedros Adhanom Ghebreyesus amesema Jumatatu tishio kubwa hivi sasa sio virusi vyenyewe, lakini hasa “ ni ukosefu wa mshikamano wa kimataifa na uongozi.” \\n “Hatuwezi kulishinda janga hili wakati ulimwengu umegawanyika,” amesema. \\n Zaidi ya darzeni ya majimbo ya Marekani yameshuhudia kuongezeka kwa maambukizi. Dkt Tom Inglesby, mkurugenzi wa Kituo cha Usalama wa Afya katika Chuo cha Afya ya Jamii cha Johns Hopkins Bloomberg, amesema kupitia kipindi cha “Fox News Sunday” kwamba kuongezeka kwa maambukizi kunatokana na mchanganyiko wa kuongezeka kwa upimaji na mlipuko hasa wa maambukizi. \\n “Unaweza kupambanua kati ya kuongezeka upimaji na hali ya dharura ya ugonjwa huu kwa kuangalia kiwango cha watu wanaolazwa hospitali, kiwango cha watu walioko kitengo cha mahututi, na asilimia ya jumla ya wale wanaogundulika kuwa na maambukizi katika jimbo mojawapo,” Inglesby amesema.  \\n “Na katika majimbo mengi, katika yale ulioonyesha, hususan Arizona, Texas, Carolinas, Florida, kile tunacho shuhudia ni kuongezeka maambukizi kwa waliopimwa na wengi wao kulazwa hospitalini, hali ya wagonjwa ikiwa mbaya.” \\n Rais Donald Trump amerejea kusema anaamini idadi ya maambukizi yaliothibitishwa nchini Marekani, ambayo inaongoza duniani kukiwa na zaidi ya maambukizi milioni 2.2, ni kutokana na juhudi katika nchi hii kufanya upimaji. \\n “Upimaji wetu wa virusi vya corona ni wa juu zaidi (vipimo 25 milioni) na ambavyo vya utaalam wa juu, na inatufanya tuonekane kama tuna maambukizi mengi zaidi, hasa ukilinganisha na nchi nyingine,” alituma ujumbe wa tweet Jumapili jioni.  \\n Hilo lilifuatia maoni yake aliotoa katika mkutano wa hadhara wa kampeni Jumamosi ambapo rais alisema : “Unapofanya vipimo kwa kiwango hicho, lazima utajikuta una maambukizi zaidi. Hivyo, nawaambia watu wangu, “Punguzeni kasi ya upimaji.” \\n White House baadae ilisema kuwa rais alikuwa anafanya mashara.  \\n Wajumbe wa kikosi kazi cha virusi vya corona cha White House wamepangiwa kutoa ushuhuda mbele ya kamati ya Nishati na Biashara ya Baraza la Wawakilishi Jumanne, na Spika wa Baraza la Wawakilishi Nancy Pelosi amesema, “Wananchi wa Marekani wanahitaji majibu kwa nini Rais Trump anataka upimaji upunguzwe kasi wakati wataalam wanasema upimaji zaidi unahitajika.” \\n “Juhudi za Rais kupunguza kasi ambapo upimaji unahitajika kwa dharura, kuficha ukweli wa kiwango cha maambukizi ya virusi inamaanisha Wamarekani zaidi watapoteza maisha yao,” amesema Pelosi katika tamko lake Jumapili.  \n",
       "3  Idadi ya vifo kutokana na maambukizo ya kirusi corona imeongezeka na kufikia 81 Jumatatu. \\n\\nWagonjwa wengine 3,000 wamethibitishwa kuwa na maambukizo, wakati serikali ikiongeza muda wa mapumziko kwa siku tatu katika sherehe za mwaka mpya unaofuata kuandama kwa mwezi. \\n Wakati huohuo biashara kubwa nchini humo zimefungwa au waajiriwa kupewa muongozo wa kufanyia kazi majumbani mwao katika juhudi za kupunguza maambukizo. \\n Waziri Mkuu Li Kequang alitembelea mji wa Wuhan katika kituo cha mlipuko wa kirusi hicho. \\n Serikali inaongeza juhudi za kupambana na ugonjwa unaosababishwa na kirusi corona huku kukiwa na shutuma kutoka kwa wananchi ya kutokuwepo na uwajibikaji wa kutosha. \\n Idadi ya watu walioathiriwa na kirusi hicho China imepanda kwa asilimia 30 kutoka ile ya awali huku nusu yao wakitokea jimbo la Hubei ambao mji mkuu wake ni Wuhan. \\n Lakini baadhi ya wataalamu wanasema idadi ya walioathiriwa inaweza kuwa kubwa zaidi. \\n Hali hiyo imesababisha sherehe za mwaka mpya kuahirishwa hadi February 2 ambapo watu wengi husafiri kuingia na kutoka China. \\n Wawekezaji wana wasiwasi kuhusu matokeo ya safari, utalii na harakati za kiuchumi huko China kwa hivi sasa. \\n Imetayarishwa na mwandishi wetu, Washington, DC.                                                                                                                                                                                                                                                                                                                                                                                                                                                                                                                                                                                                                                                                                                                                                                                                                                                                                                                                                                                                                                                                                                                                                                                                                                                                                                                                                                                                                                                                                                                                                                                                                                                                                                                                                                                                                                                                                                                                          \n",
       "4  Mwenyekiti wa bodi ya Hospitali ya Mbagathi iliyo mjini Nairobi, Kenya, amesema usaidizi wowote wa kimataifa wa kukabilina na virusi vya Corona utatumiwa kwa uangalifu na kwa njia inayofaa. \\n\\nGeorge Osewe, mmoja wa wasimamizi waandamizi wa hospitali hiyo, ambako wagonjwa wengi wanaugua maradhi ya Corona wanaendelea kupokea matibabu, ameiambia Sauti ya Amerika kwamba misaada inayotolewa na taasisi za kimataifa kama Benki kuu ya Dunia na nchi za Magharibi kama Marekani, ya kusaidia katika kukabilina na janga la Corona, itaelekezwa kule ilikokusidiwa. \\n Haya yalijiri huku Marekani ikitangaza msaada wa $274 Milioni kwa bara la Afrika ambapo Kenya na Jamhuri ya kidemokrasia ya Kongo ni baadhi ya nchi zitakazonufaika. \\n Siku ya Jumatano, bodi ya Benki Kuu ya Dunia iliidhinisha dolla milioni 50 ambazo ilisema zimetolewa kwa Kenya kupambambana na hali hiyo. \\n Baadhi ya wauguzi na wahudumu wengine katika hospitali hiyo wamekuwa wakilalamika kwamba hakuna vifaa vya kutosha vinavyohitajika ili kutekeleza majukumu bila kuhatarisha maisha yao. \\n \"Tunakaribisha sana msaada kutoka Marekani na mashirika ya kihisani ya kimataifa kwa sababu wao ni washirika wetu wa karibu,\" alisema Osewe. \\n \"Ni ishara kwamba wana imani na mfumo wetu wa afya,\" aliongeza. \\n Baadhi ya Wakenya wametaka serikali kuwa na uwazi katika matumizi ya fedha za misaada wakidai kwamba katika siku za awali, ubadhirifu wa pesa kama hizo na ufisadi ulishuhudiwa. \\n Kenya ni miongoni mwa nchi zilizo na idadi kubwa ya visa vya Corona vilivyothibitishwa barani Afrika, ikiwa na watu 142 walioambukizwa kufikia siku ya Jumapili. \\n Sikiliza mahojiano hapa: \\n No media source currently available                                                                                                                                                                                                                                                                                                                                                                                                                                                                                                                                                                                                                                                                                                                                                                                                                                                                                                                                                                                                                                                                                                                                                                                                                                                                                                                                                                                                                                                                                 "
      ]
     },
     "execution_count": 91,
     "metadata": {},
     "output_type": "execute_result"
    }
   ],
   "source": [
    "data = pd.read_csv(\"voa_swahili.csv\")\n",
    "data.head()"
   ]
  },
  {
   "cell_type": "code",
   "execution_count": 79,
   "metadata": {},
   "outputs": [],
   "source": [
    "# load in the colum body as txt \n",
    "writePath = \"voa_swa4.txt\"\n",
    "with open(writePath, 'a') as f:\n",
    "    f.write(data[\"Text\"].to_string(header = False, index = False))"
   ]
  },
  {
   "cell_type": "code",
   "execution_count": 80,
   "metadata": {},
   "outputs": [],
   "source": [
    "# load in txt and split to sentences\n",
    "f = open('voa_swa4.txt', 'r')\n",
    "content = f.read()"
   ]
  },
  {
   "cell_type": "code",
   "execution_count": 81,
   "metadata": {},
   "outputs": [
    {
     "data": {
      "text/plain": [
       "321622"
      ]
     },
     "execution_count": 81,
     "metadata": {},
     "output_type": "execute_result"
    }
   ],
   "source": [
    "len(content.split()) "
   ]
  },
  {
   "cell_type": "code",
   "execution_count": 84,
   "metadata": {},
   "outputs": [],
   "source": [
    "outF = open(\"swa_clean_voa.txt\", \"w\")\n",
    "\n",
    "def format_sentence(sentence):\n",
    "    for line in sentence.split('\\n'):\n",
    "        outF.write(line.strip() + \". ##\" + \"\\n\")\n",
    "    outF.close()"
   ]
  },
  {
   "cell_type": "code",
   "execution_count": 85,
   "metadata": {},
   "outputs": [],
   "source": [
    "format_sentence(content)"
   ]
  },
  {
   "cell_type": "code",
   "execution_count": 88,
   "metadata": {},
   "outputs": [],
   "source": [
    "outF = open(\"voa_clean_final2.txt\", \"w\")\n",
    "\n",
    "def format_sentence(sentence):\n",
    "    count = 0\n",
    "    \n",
    "    while count <= 20000:\n",
    "        for line in sentence.split('.'):\n",
    "            count+=1\n",
    "            outF.write(line.strip() + \"\\n\")\n",
    "    outF.close()\n",
    "    return count"
   ]
  },
  {
   "cell_type": "code",
   "execution_count": 89,
   "metadata": {},
   "outputs": [
    {
     "data": {
      "text/plain": [
       "25784"
      ]
     },
     "execution_count": 89,
     "metadata": {},
     "output_type": "execute_result"
    }
   ],
   "source": [
    "format_sentence(content)"
   ]
  },
  {
   "cell_type": "code",
   "execution_count": null,
   "metadata": {},
   "outputs": [],
   "source": []
  }
 ],
 "metadata": {
  "kernelspec": {
   "display_name": "Python 3",
   "language": "python",
   "name": "python3"
  },
  "language_info": {
   "codemirror_mode": {
    "name": "ipython",
    "version": 3
   },
   "file_extension": ".py",
   "mimetype": "text/x-python",
   "name": "python",
   "nbconvert_exporter": "python",
   "pygments_lexer": "ipython3",
   "version": "3.7.3"
  }
 },
 "nbformat": 4,
 "nbformat_minor": 2
}
